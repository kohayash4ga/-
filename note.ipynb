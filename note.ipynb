{
 "cells": [
  {
   "cell_type": "code",
   "execution_count": null,
   "metadata": {},
   "outputs": [],
   "source": [
    "# %% [markdown]\n",
    "# # Numpyをようやく戦うゾ\n",
    "# - https://numpy.org/doc/2.3/user/basics.creation.html\n",
    "\n",
    "# %% [markdown]\n",
    "# ## np.array():配列の作成\n",
    "\n",
    "# %%\n",
    "import numpy as np\n",
    "\n",
    "a1D = np.array([1,2,3,4])\n",
    "print(a1D)\n",
    "\n",
    "# %%\n",
    "a2D = np.array([[1,2],[3,4]])\n",
    "print(a2D)\n",
    "\n",
    "# %%\n",
    "a3D = np.array([[[1, 2], [3, 4]], [[5, 6], [7, 8]]])\n",
    "print(a3D)\n",
    "\n",
    "# %% [markdown]\n",
    "# ## 配列を作成する関数\n",
    "# - 配列を作成する関数は、基本的に下のカテゴリに分けられる\n",
    "#     - 1D arrays\n",
    "#     - 2D arrays\n",
    "#     - ndarrays\n",
    "\n",
    "# %% [markdown]\n",
    "# ## 1. 1D arrayを作成する関数\n",
    "# ### numpy.arange()\n",
    "# - numpy.arange([start, ]stop, [step, ]dtype=None, *, device=None, like=None)\n",
    "# \n",
    "# - doc https://numpy.org/doc/2.3/reference/generated/numpy.arange.html#numpy.arange\n",
    "\n",
    "# %%\n",
    "np.arange(10)\n",
    "print(np.arange(3,19,0.01,dtype=float))\n",
    "print(np.arange(3,19,0.01))\n",
    "\n",
    "# %% [markdown]\n",
    "# ### numpy.linspace()\n",
    "# - 始点、終点、指定した要素数 → 当分割したものが配列となる\n",
    "\n",
    "# %%\n",
    "\n",
    "\n",
    "C:\\Users\\gones\\study\\ゼロつくとその周辺\\note.ipynb"
   ]
  }
 ],
 "metadata": {
  "kernelspec": {
   "display_name": "py310-cpu",
   "language": "python",
   "name": "python3"
  },
  "language_info": {
   "name": "python",
   "version": "3.10.9"
  }
 },
 "nbformat": 4,
 "nbformat_minor": 2
}
